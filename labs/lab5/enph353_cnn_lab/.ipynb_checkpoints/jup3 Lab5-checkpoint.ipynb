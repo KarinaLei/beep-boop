{
 "cells": [
  {
   "cell_type": "code",
   "execution_count": null,
   "metadata": {},
   "outputs": [],
   "source": [
    "import math\n",
    "import numpy as np\n",
    "import re\n",
    "\n",
    "from collections import Counter\n",
    "from matplotlib import pyplot as plt\n",
    "from PIL import Image\n",
    "\n",
    "PATH = '/home/fizzer/enph353_git/beep-boop/labs/lab5/enph353_cnn_lab/pictures'\n",
    "# labels_raw = !ls \"{PATH}\"\n",
    "# labels = labels_raw[0].split()\n",
    "# print(labels)\n",
    "\n",
    "def files_in_folder(folder_path):\n",
    "  '''\n",
    "  Returns a list of strings where each entry is a file in the folder_path.\n",
    "  \n",
    "  Parameters\n",
    "  ----------\n",
    "  \n",
    "  folder_path : str\n",
    "     A string to folder for which the file listing is returned.\n",
    "     \n",
    "  '''\n",
    "  files_A = !ls \"{folder_path}\"\n",
    "  # The files when listed from Google Drive have a particular format. They are\n",
    "  # grouped in sets of 4 and have spaces and tabs as delimiters.\n",
    "  \n",
    "  # Split the string listing sets of 4 files by tab and space and remove any \n",
    "  # empty splits.\n",
    "  files_B = [list(filter(None, re.split('\\t|\\s', files))) for files in files_A]\n",
    "  \n",
    "  # Concatenate all splits into a single sorted list\n",
    "  files_C = []\n",
    "  for element in files_B:\n",
    "    files_C = files_C + element\n",
    "  files_C.sort()\n",
    "  \n",
    "  return files_C\n",
    "\n",
    "folder = PATH\n",
    "\n",
    "files = files_in_folder(folder)\n",
    "\n",
    "# Crop the images in the folder to get individual letters\n",
    "for file in files:\n",
    "    # Open the image\n",
    "    image = Image.open(folder+\"/\"+file)\n",
    "\n",
    "# imgset = np.array([[np.array(Image.open(f'{folder}/{file}')), 0]\n",
    "#                     for file in files[:]])\n",
    "# print(\"Loaded {:} images from folder:\\n{}\".format(imgset.shape[0], folder))\n",
    "\n",
    "# Put the image set in X\n",
    "\n",
    "# "
   ]
  }
 ],
 "metadata": {
  "kernelspec": {
   "display_name": "Python 3",
   "language": "python",
   "name": "python3"
  },
  "language_info": {
   "codemirror_mode": {
    "name": "ipython",
    "version": 3
   },
   "file_extension": ".py",
   "mimetype": "text/x-python",
   "name": "python",
   "nbconvert_exporter": "python",
   "pygments_lexer": "ipython3",
   "version": "3.6.9"
  }
 },
 "nbformat": 4,
 "nbformat_minor": 2
}
